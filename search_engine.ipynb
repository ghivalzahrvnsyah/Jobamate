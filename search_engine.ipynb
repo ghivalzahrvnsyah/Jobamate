{
  "nbformat": 4,
  "nbformat_minor": 0,
  "metadata": {
    "colab": {
      "provenance": []
    },
    "kernelspec": {
      "name": "python3",
      "display_name": "Python 3"
    },
    "language_info": {
      "name": "python"
    }
  },
  "cells": [
    {
      "cell_type": "code",
      "source": [
        "import pandas as pd\n",
        "import numpy as np\n",
        "import re\n",
        "from sklearn.preprocessing import LabelEncoder\n",
        "from tensorflow.keras.models import Sequential\n",
        "from tensorflow.keras.layers import Embedding, LSTM, Dense\n",
        "from tensorflow.keras.preprocessing.text import Tokenizer\n",
        "from tensorflow.keras.preprocessing.sequence import pad_sequences\n",
        "from sklearn.model_selection import train_test_split"
      ],
      "metadata": {
        "id": "_pSil6YM4R9J"
      },
      "execution_count": 1,
      "outputs": []
    },
    {
      "cell_type": "code",
      "source": [
        "pip install h5py"
      ],
      "metadata": {
        "colab": {
          "base_uri": "https://localhost:8080/"
        },
        "id": "s57LEisMMe3b",
        "outputId": "8c3cd545-ac9d-4009-9b6d-b8bea647731c"
      },
      "execution_count": 2,
      "outputs": [
        {
          "output_type": "stream",
          "name": "stdout",
          "text": [
            "Requirement already satisfied: h5py in /usr/local/lib/python3.10/dist-packages (3.9.0)\n",
            "Requirement already satisfied: numpy>=1.17.3 in /usr/local/lib/python3.10/dist-packages (from h5py) (1.23.5)\n"
          ]
        }
      ]
    },
    {
      "cell_type": "code",
      "source": [
        "# Membaca dataset\n",
        "df = pd.read_csv('modified_set_kerja.csv')"
      ],
      "metadata": {
        "id": "6hEHB5sF4Tyq"
      },
      "execution_count": 3,
      "outputs": []
    },
    {
      "cell_type": "code",
      "source": [
        "# Preprocessing teks\n",
        "def preprocess_text(text):\n",
        "    text = text.lower()\n",
        "    text = re.sub(r'[^\\w\\s]', '', text)\n",
        "    text = re.sub(r'\\d+', '', text)\n",
        "    text = text.strip()\n",
        "    return text\n",
        "\n",
        "df['processed_description'] = df['Job Description'].apply(preprocess_text)\n"
      ],
      "metadata": {
        "id": "UoopiwvZ4W7E"
      },
      "execution_count": 4,
      "outputs": []
    },
    {
      "cell_type": "code",
      "source": [
        "# Tokenisasi dan Padding\n",
        "MAX_WORDS = 10000\n",
        "MAX_SEQUENCE_LENGTH = 100\n",
        "tokenizer = Tokenizer(num_words=MAX_WORDS)\n",
        "tokenizer.fit_on_texts(df['processed_description'])\n",
        "sequences = tokenizer.texts_to_sequences(df['processed_description'])\n",
        "data = pad_sequences(sequences, maxlen=MAX_SEQUENCE_LENGTH)\n"
      ],
      "metadata": {
        "id": "uRWU0mZo4ZJs"
      },
      "execution_count": 5,
      "outputs": []
    },
    {
      "cell_type": "code",
      "source": [
        "# Label Encoding untuk target (Nama Pekerjaan)\n",
        "label_encoder = LabelEncoder()\n",
        "labels = label_encoder.fit_transform(df['Nama Pekerjaan'])\n"
      ],
      "metadata": {
        "id": "bBBa2JIj4dRI"
      },
      "execution_count": 6,
      "outputs": []
    },
    {
      "cell_type": "code",
      "source": [
        "# Membagi data menjadi data latih dan uji\n",
        "X_train, X_test, y_train, y_test = train_test_split(data, labels, test_size=0.2, random_state=42)"
      ],
      "metadata": {
        "id": "wvZy9WH44gMC"
      },
      "execution_count": 7,
      "outputs": []
    },
    {
      "cell_type": "code",
      "source": [
        "# Membangun Model\n",
        "model = Sequential()\n",
        "model.add(Embedding(MAX_WORDS, 128, input_length=MAX_SEQUENCE_LENGTH))\n",
        "model.add(LSTM(64, dropout=0.2))\n",
        "model.add(Dense(len(np.unique(labels)), activation='softmax'))  # Jumlah neuron sama dengan jumlah label unik\n",
        "\n",
        "model.compile(optimizer='adam', loss='sparse_categorical_crossentropy', metrics=['accuracy'])"
      ],
      "metadata": {
        "id": "5OziN-oh4kuy"
      },
      "execution_count": 8,
      "outputs": []
    },
    {
      "cell_type": "code",
      "source": [
        "# Training Model\n",
        "model.fit(X_train, y_train, validation_data=(X_test, y_test), epochs=100, batch_size=32)"
      ],
      "metadata": {
        "colab": {
          "base_uri": "https://localhost:8080/"
        },
        "id": "NZDotGxi4m6W",
        "outputId": "66405300-2934-49ed-b40f-cf40ff374157"
      },
      "execution_count": 9,
      "outputs": [
        {
          "output_type": "stream",
          "name": "stdout",
          "text": [
            "Epoch 1/100\n",
            "3/3 [==============================] - 7s 1s/step - loss: 4.0548 - accuracy: 0.1125 - val_loss: 4.0507 - val_accuracy: 0.2000\n",
            "Epoch 2/100\n",
            "3/3 [==============================] - 1s 181ms/step - loss: 4.0321 - accuracy: 0.4250 - val_loss: 4.0467 - val_accuracy: 0.2500\n",
            "Epoch 3/100\n",
            "3/3 [==============================] - 1s 169ms/step - loss: 4.0072 - accuracy: 0.5000 - val_loss: 4.0424 - val_accuracy: 0.2500\n",
            "Epoch 4/100\n",
            "3/3 [==============================] - 1s 190ms/step - loss: 3.9784 - accuracy: 0.4000 - val_loss: 4.0375 - val_accuracy: 0.1500\n",
            "Epoch 5/100\n",
            "3/3 [==============================] - 1s 191ms/step - loss: 3.9368 - accuracy: 0.3250 - val_loss: 4.0368 - val_accuracy: 0.0500\n",
            "Epoch 6/100\n",
            "3/3 [==============================] - 1s 235ms/step - loss: 3.8517 - accuracy: 0.1875 - val_loss: 4.1049 - val_accuracy: 0.0000e+00\n",
            "Epoch 7/100\n",
            "3/3 [==============================] - 1s 198ms/step - loss: 3.7266 - accuracy: 0.0625 - val_loss: 4.2952 - val_accuracy: 0.0000e+00\n",
            "Epoch 8/100\n",
            "3/3 [==============================] - 1s 207ms/step - loss: 3.6797 - accuracy: 0.0625 - val_loss: 4.3559 - val_accuracy: 0.0000e+00\n",
            "Epoch 9/100\n",
            "3/3 [==============================] - 0s 104ms/step - loss: 3.5883 - accuracy: 0.1125 - val_loss: 4.2564 - val_accuracy: 0.0500\n",
            "Epoch 10/100\n",
            "3/3 [==============================] - 0s 106ms/step - loss: 3.4854 - accuracy: 0.2250 - val_loss: 4.2492 - val_accuracy: 0.0500\n",
            "Epoch 11/100\n",
            "3/3 [==============================] - 0s 98ms/step - loss: 3.4049 - accuracy: 0.3250 - val_loss: 4.1937 - val_accuracy: 0.0500\n",
            "Epoch 12/100\n",
            "3/3 [==============================] - 0s 99ms/step - loss: 3.2795 - accuracy: 0.3500 - val_loss: 4.2702 - val_accuracy: 0.0500\n",
            "Epoch 13/100\n",
            "3/3 [==============================] - 0s 102ms/step - loss: 3.1368 - accuracy: 0.3750 - val_loss: 4.3810 - val_accuracy: 0.1500\n",
            "Epoch 14/100\n",
            "3/3 [==============================] - 0s 99ms/step - loss: 3.0268 - accuracy: 0.3875 - val_loss: 4.2988 - val_accuracy: 0.1500\n",
            "Epoch 15/100\n",
            "3/3 [==============================] - 0s 97ms/step - loss: 2.8783 - accuracy: 0.4250 - val_loss: 4.2092 - val_accuracy: 0.1500\n",
            "Epoch 16/100\n",
            "3/3 [==============================] - 0s 105ms/step - loss: 2.7680 - accuracy: 0.4250 - val_loss: 4.3407 - val_accuracy: 0.1500\n",
            "Epoch 17/100\n",
            "3/3 [==============================] - 0s 102ms/step - loss: 2.6640 - accuracy: 0.4125 - val_loss: 4.1753 - val_accuracy: 0.1500\n",
            "Epoch 18/100\n",
            "3/3 [==============================] - 0s 102ms/step - loss: 2.5651 - accuracy: 0.4125 - val_loss: 4.2454 - val_accuracy: 0.1500\n",
            "Epoch 19/100\n",
            "3/3 [==============================] - 0s 100ms/step - loss: 2.4454 - accuracy: 0.4500 - val_loss: 4.3955 - val_accuracy: 0.1500\n",
            "Epoch 20/100\n",
            "3/3 [==============================] - 0s 103ms/step - loss: 2.3262 - accuracy: 0.4875 - val_loss: 4.2240 - val_accuracy: 0.1500\n",
            "Epoch 21/100\n",
            "3/3 [==============================] - 0s 100ms/step - loss: 2.2291 - accuracy: 0.5625 - val_loss: 4.3168 - val_accuracy: 0.2500\n",
            "Epoch 22/100\n",
            "3/3 [==============================] - 0s 103ms/step - loss: 2.1134 - accuracy: 0.5500 - val_loss: 4.2632 - val_accuracy: 0.2500\n",
            "Epoch 23/100\n",
            "3/3 [==============================] - 0s 104ms/step - loss: 2.0166 - accuracy: 0.5625 - val_loss: 4.2197 - val_accuracy: 0.2500\n",
            "Epoch 24/100\n",
            "3/3 [==============================] - 0s 102ms/step - loss: 1.9243 - accuracy: 0.5625 - val_loss: 4.3522 - val_accuracy: 0.2500\n",
            "Epoch 25/100\n",
            "3/3 [==============================] - 0s 101ms/step - loss: 1.8496 - accuracy: 0.5625 - val_loss: 4.1063 - val_accuracy: 0.2500\n",
            "Epoch 26/100\n",
            "3/3 [==============================] - 0s 102ms/step - loss: 1.7857 - accuracy: 0.5875 - val_loss: 4.3144 - val_accuracy: 0.3000\n",
            "Epoch 27/100\n",
            "3/3 [==============================] - 0s 101ms/step - loss: 1.7073 - accuracy: 0.5625 - val_loss: 4.3744 - val_accuracy: 0.2500\n",
            "Epoch 28/100\n",
            "3/3 [==============================] - 0s 139ms/step - loss: 1.6326 - accuracy: 0.5750 - val_loss: 4.3253 - val_accuracy: 0.2500\n",
            "Epoch 29/100\n",
            "3/3 [==============================] - 0s 141ms/step - loss: 1.5815 - accuracy: 0.6125 - val_loss: 4.3873 - val_accuracy: 0.2500\n",
            "Epoch 30/100\n",
            "3/3 [==============================] - 0s 153ms/step - loss: 1.5172 - accuracy: 0.5750 - val_loss: 4.3463 - val_accuracy: 0.2500\n",
            "Epoch 31/100\n",
            "3/3 [==============================] - 0s 144ms/step - loss: 1.4612 - accuracy: 0.6250 - val_loss: 4.4060 - val_accuracy: 0.2500\n",
            "Epoch 32/100\n",
            "3/3 [==============================] - 0s 168ms/step - loss: 1.4061 - accuracy: 0.6375 - val_loss: 4.5140 - val_accuracy: 0.2500\n",
            "Epoch 33/100\n",
            "3/3 [==============================] - 0s 175ms/step - loss: 1.3559 - accuracy: 0.6875 - val_loss: 4.3849 - val_accuracy: 0.2500\n",
            "Epoch 34/100\n",
            "3/3 [==============================] - 0s 153ms/step - loss: 1.3135 - accuracy: 0.7125 - val_loss: 4.6118 - val_accuracy: 0.3000\n",
            "Epoch 35/100\n",
            "3/3 [==============================] - 0s 162ms/step - loss: 1.2625 - accuracy: 0.6875 - val_loss: 4.4693 - val_accuracy: 0.2500\n",
            "Epoch 36/100\n",
            "3/3 [==============================] - 0s 167ms/step - loss: 1.2129 - accuracy: 0.7375 - val_loss: 4.6271 - val_accuracy: 0.2500\n",
            "Epoch 37/100\n",
            "3/3 [==============================] - 0s 143ms/step - loss: 1.1877 - accuracy: 0.7250 - val_loss: 4.5717 - val_accuracy: 0.2500\n",
            "Epoch 38/100\n",
            "3/3 [==============================] - 0s 102ms/step - loss: 1.2001 - accuracy: 0.7625 - val_loss: 4.7535 - val_accuracy: 0.2500\n",
            "Epoch 39/100\n",
            "3/3 [==============================] - 0s 107ms/step - loss: 1.1516 - accuracy: 0.7375 - val_loss: 4.7071 - val_accuracy: 0.2500\n",
            "Epoch 40/100\n",
            "3/3 [==============================] - 0s 100ms/step - loss: 1.0813 - accuracy: 0.7875 - val_loss: 4.9172 - val_accuracy: 0.2500\n",
            "Epoch 41/100\n",
            "3/3 [==============================] - 0s 104ms/step - loss: 1.0789 - accuracy: 0.7625 - val_loss: 4.6257 - val_accuracy: 0.2500\n",
            "Epoch 42/100\n",
            "3/3 [==============================] - 0s 97ms/step - loss: 1.0446 - accuracy: 0.8125 - val_loss: 5.0059 - val_accuracy: 0.2500\n",
            "Epoch 43/100\n",
            "3/3 [==============================] - 0s 104ms/step - loss: 0.9993 - accuracy: 0.7875 - val_loss: 4.9334 - val_accuracy: 0.2500\n",
            "Epoch 44/100\n",
            "3/3 [==============================] - 0s 100ms/step - loss: 0.9550 - accuracy: 0.8250 - val_loss: 4.8833 - val_accuracy: 0.2500\n",
            "Epoch 45/100\n",
            "3/3 [==============================] - 0s 105ms/step - loss: 0.9126 - accuracy: 0.8500 - val_loss: 4.9237 - val_accuracy: 0.2500\n",
            "Epoch 46/100\n",
            "3/3 [==============================] - 0s 110ms/step - loss: 0.8901 - accuracy: 0.8500 - val_loss: 4.9767 - val_accuracy: 0.2500\n",
            "Epoch 47/100\n",
            "3/3 [==============================] - 0s 100ms/step - loss: 0.8524 - accuracy: 0.8500 - val_loss: 5.0558 - val_accuracy: 0.2500\n",
            "Epoch 48/100\n",
            "3/3 [==============================] - 0s 102ms/step - loss: 0.8203 - accuracy: 0.8500 - val_loss: 5.0995 - val_accuracy: 0.2500\n",
            "Epoch 49/100\n",
            "3/3 [==============================] - 0s 102ms/step - loss: 0.7976 - accuracy: 0.8625 - val_loss: 5.0345 - val_accuracy: 0.2500\n",
            "Epoch 50/100\n",
            "3/3 [==============================] - 0s 103ms/step - loss: 0.7741 - accuracy: 0.8750 - val_loss: 5.1573 - val_accuracy: 0.3000\n",
            "Epoch 51/100\n",
            "3/3 [==============================] - 0s 97ms/step - loss: 0.7489 - accuracy: 0.8625 - val_loss: 5.1344 - val_accuracy: 0.2500\n",
            "Epoch 52/100\n",
            "3/3 [==============================] - 0s 96ms/step - loss: 0.7292 - accuracy: 0.8625 - val_loss: 5.1891 - val_accuracy: 0.2500\n",
            "Epoch 53/100\n",
            "3/3 [==============================] - 0s 107ms/step - loss: 0.7087 - accuracy: 0.8750 - val_loss: 5.0867 - val_accuracy: 0.2500\n",
            "Epoch 54/100\n",
            "3/3 [==============================] - 0s 99ms/step - loss: 0.6824 - accuracy: 0.8750 - val_loss: 5.0867 - val_accuracy: 0.2500\n",
            "Epoch 55/100\n",
            "3/3 [==============================] - 0s 102ms/step - loss: 0.6635 - accuracy: 0.8750 - val_loss: 5.1756 - val_accuracy: 0.2500\n",
            "Epoch 56/100\n",
            "3/3 [==============================] - 0s 105ms/step - loss: 0.6476 - accuracy: 0.8750 - val_loss: 5.1905 - val_accuracy: 0.2500\n",
            "Epoch 57/100\n",
            "3/3 [==============================] - 0s 101ms/step - loss: 0.6308 - accuracy: 0.8750 - val_loss: 5.3525 - val_accuracy: 0.2500\n",
            "Epoch 58/100\n",
            "3/3 [==============================] - 0s 98ms/step - loss: 0.6197 - accuracy: 0.8750 - val_loss: 5.2277 - val_accuracy: 0.2500\n",
            "Epoch 59/100\n",
            "3/3 [==============================] - 0s 100ms/step - loss: 0.6137 - accuracy: 0.8750 - val_loss: 5.2117 - val_accuracy: 0.2500\n",
            "Epoch 60/100\n",
            "3/3 [==============================] - 0s 126ms/step - loss: 0.6033 - accuracy: 0.8750 - val_loss: 5.5065 - val_accuracy: 0.2500\n",
            "Epoch 61/100\n",
            "3/3 [==============================] - 0s 101ms/step - loss: 0.5859 - accuracy: 0.8750 - val_loss: 5.4511 - val_accuracy: 0.2500\n",
            "Epoch 62/100\n",
            "3/3 [==============================] - 0s 99ms/step - loss: 0.5773 - accuracy: 0.8750 - val_loss: 5.3674 - val_accuracy: 0.2500\n",
            "Epoch 63/100\n",
            "3/3 [==============================] - 0s 104ms/step - loss: 0.5654 - accuracy: 0.8750 - val_loss: 5.3957 - val_accuracy: 0.2500\n",
            "Epoch 64/100\n",
            "3/3 [==============================] - 0s 105ms/step - loss: 0.5532 - accuracy: 0.8750 - val_loss: 5.3722 - val_accuracy: 0.2500\n",
            "Epoch 65/100\n",
            "3/3 [==============================] - 0s 95ms/step - loss: 0.5403 - accuracy: 0.8750 - val_loss: 5.3090 - val_accuracy: 0.2500\n",
            "Epoch 66/100\n",
            "3/3 [==============================] - 0s 99ms/step - loss: 0.5310 - accuracy: 0.8750 - val_loss: 5.3710 - val_accuracy: 0.2500\n",
            "Epoch 67/100\n",
            "3/3 [==============================] - 0s 105ms/step - loss: 0.5242 - accuracy: 0.8750 - val_loss: 5.3852 - val_accuracy: 0.2500\n",
            "Epoch 68/100\n",
            "3/3 [==============================] - 0s 106ms/step - loss: 0.5150 - accuracy: 0.8750 - val_loss: 5.4657 - val_accuracy: 0.2500\n",
            "Epoch 69/100\n",
            "3/3 [==============================] - 0s 104ms/step - loss: 0.5107 - accuracy: 0.8750 - val_loss: 5.5431 - val_accuracy: 0.2500\n",
            "Epoch 70/100\n",
            "3/3 [==============================] - 0s 108ms/step - loss: 0.5034 - accuracy: 0.8750 - val_loss: 5.5236 - val_accuracy: 0.2500\n",
            "Epoch 71/100\n",
            "3/3 [==============================] - 0s 139ms/step - loss: 0.4958 - accuracy: 0.8750 - val_loss: 5.3914 - val_accuracy: 0.2500\n",
            "Epoch 72/100\n",
            "3/3 [==============================] - 0s 149ms/step - loss: 0.4889 - accuracy: 0.8750 - val_loss: 5.5089 - val_accuracy: 0.2500\n",
            "Epoch 73/100\n",
            "3/3 [==============================] - 0s 157ms/step - loss: 0.4857 - accuracy: 0.8750 - val_loss: 5.5318 - val_accuracy: 0.2500\n",
            "Epoch 74/100\n",
            "3/3 [==============================] - 0s 173ms/step - loss: 0.4784 - accuracy: 0.8750 - val_loss: 5.4458 - val_accuracy: 0.2500\n",
            "Epoch 75/100\n",
            "3/3 [==============================] - 0s 166ms/step - loss: 0.4759 - accuracy: 0.8750 - val_loss: 5.5762 - val_accuracy: 0.2500\n",
            "Epoch 76/100\n",
            "3/3 [==============================] - 0s 154ms/step - loss: 0.4704 - accuracy: 0.8750 - val_loss: 5.6672 - val_accuracy: 0.2500\n",
            "Epoch 77/100\n",
            "3/3 [==============================] - 0s 173ms/step - loss: 0.4669 - accuracy: 0.8750 - val_loss: 5.5748 - val_accuracy: 0.2500\n",
            "Epoch 78/100\n",
            "3/3 [==============================] - 0s 145ms/step - loss: 0.4620 - accuracy: 0.8750 - val_loss: 5.5124 - val_accuracy: 0.2500\n",
            "Epoch 79/100\n",
            "3/3 [==============================] - 0s 147ms/step - loss: 0.4574 - accuracy: 0.8750 - val_loss: 5.6132 - val_accuracy: 0.2500\n",
            "Epoch 80/100\n",
            "3/3 [==============================] - 0s 148ms/step - loss: 0.4540 - accuracy: 0.8750 - val_loss: 5.6526 - val_accuracy: 0.2500\n",
            "Epoch 81/100\n",
            "3/3 [==============================] - 0s 102ms/step - loss: 0.4498 - accuracy: 0.8750 - val_loss: 5.5953 - val_accuracy: 0.2500\n",
            "Epoch 82/100\n",
            "3/3 [==============================] - 0s 105ms/step - loss: 0.4486 - accuracy: 0.8750 - val_loss: 5.5543 - val_accuracy: 0.2500\n",
            "Epoch 83/100\n",
            "3/3 [==============================] - 0s 105ms/step - loss: 0.4471 - accuracy: 0.8750 - val_loss: 5.6688 - val_accuracy: 0.2500\n",
            "Epoch 84/100\n",
            "3/3 [==============================] - 0s 99ms/step - loss: 0.4429 - accuracy: 0.8750 - val_loss: 5.7459 - val_accuracy: 0.2500\n",
            "Epoch 85/100\n",
            "3/3 [==============================] - 0s 102ms/step - loss: 0.4411 - accuracy: 0.8750 - val_loss: 5.6884 - val_accuracy: 0.2500\n",
            "Epoch 86/100\n",
            "3/3 [==============================] - 0s 99ms/step - loss: 0.4369 - accuracy: 0.8750 - val_loss: 5.6129 - val_accuracy: 0.2500\n",
            "Epoch 87/100\n",
            "3/3 [==============================] - 0s 101ms/step - loss: 0.4370 - accuracy: 0.8750 - val_loss: 5.6886 - val_accuracy: 0.2500\n",
            "Epoch 88/100\n",
            "3/3 [==============================] - 0s 97ms/step - loss: 0.4325 - accuracy: 0.8750 - val_loss: 5.7214 - val_accuracy: 0.2500\n",
            "Epoch 89/100\n",
            "3/3 [==============================] - 0s 103ms/step - loss: 0.4294 - accuracy: 0.8750 - val_loss: 5.6610 - val_accuracy: 0.2500\n",
            "Epoch 90/100\n",
            "3/3 [==============================] - 0s 100ms/step - loss: 0.4284 - accuracy: 0.8750 - val_loss: 5.6316 - val_accuracy: 0.2500\n",
            "Epoch 91/100\n",
            "3/3 [==============================] - 0s 102ms/step - loss: 0.4268 - accuracy: 0.8750 - val_loss: 5.6697 - val_accuracy: 0.2500\n",
            "Epoch 92/100\n",
            "3/3 [==============================] - 0s 105ms/step - loss: 0.4248 - accuracy: 0.8750 - val_loss: 5.7112 - val_accuracy: 0.2500\n",
            "Epoch 93/100\n",
            "3/3 [==============================] - 0s 102ms/step - loss: 0.4241 - accuracy: 0.8750 - val_loss: 5.7475 - val_accuracy: 0.2500\n",
            "Epoch 94/100\n",
            "3/3 [==============================] - 0s 106ms/step - loss: 0.4221 - accuracy: 0.8750 - val_loss: 5.7745 - val_accuracy: 0.2500\n",
            "Epoch 95/100\n",
            "3/3 [==============================] - 0s 101ms/step - loss: 0.4218 - accuracy: 0.8750 - val_loss: 5.7571 - val_accuracy: 0.2500\n",
            "Epoch 96/100\n",
            "3/3 [==============================] - 0s 98ms/step - loss: 0.4199 - accuracy: 0.8750 - val_loss: 5.7535 - val_accuracy: 0.2500\n",
            "Epoch 97/100\n",
            "3/3 [==============================] - 0s 104ms/step - loss: 0.4183 - accuracy: 0.8750 - val_loss: 5.7682 - val_accuracy: 0.2500\n",
            "Epoch 98/100\n",
            "3/3 [==============================] - 0s 100ms/step - loss: 0.4152 - accuracy: 0.8750 - val_loss: 5.7537 - val_accuracy: 0.2500\n",
            "Epoch 99/100\n",
            "3/3 [==============================] - 0s 100ms/step - loss: 0.4154 - accuracy: 0.8750 - val_loss: 5.7880 - val_accuracy: 0.2500\n",
            "Epoch 100/100\n",
            "3/3 [==============================] - 0s 153ms/step - loss: 0.4140 - accuracy: 0.8750 - val_loss: 5.8191 - val_accuracy: 0.2500\n"
          ]
        },
        {
          "output_type": "execute_result",
          "data": {
            "text/plain": [
              "<keras.src.callbacks.History at 0x7a32c44ed090>"
            ]
          },
          "metadata": {},
          "execution_count": 9
        }
      ]
    },
    {
      "cell_type": "code",
      "source": [
        "model.save(\"model_1.h5\")"
      ],
      "metadata": {
        "colab": {
          "base_uri": "https://localhost:8080/"
        },
        "id": "Grsqgwx0KL29",
        "outputId": "012134f9-4bbb-4db6-aa95-9c37ffc536b4"
      },
      "execution_count": 10,
      "outputs": [
        {
          "output_type": "stream",
          "name": "stderr",
          "text": [
            "/usr/local/lib/python3.10/dist-packages/keras/src/engine/training.py:3079: UserWarning: You are saving your model as an HDF5 file via `model.save()`. This file format is considered legacy. We recommend using instead the native Keras format, e.g. `model.save('my_model.keras')`.\n",
            "  saving_api.save_model(\n"
          ]
        }
      ]
    }
  ]
}
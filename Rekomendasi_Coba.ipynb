{
  "nbformat": 4,
  "nbformat_minor": 0,
  "metadata": {
    "colab": {
      "provenance": []
    },
    "kernelspec": {
      "name": "python3",
      "display_name": "Python 3"
    },
    "language_info": {
      "name": "python"
    }
  },
  "cells": [
    {
      "cell_type": "code",
      "execution_count": null,
      "metadata": {
        "id": "HiQuwC5ts92u"
      },
      "outputs": [],
      "source": [
        "import pandas as pd"
      ]
    },
    {
      "cell_type": "code",
      "source": [
        "# Mengimpor dataset pekerjaan dari file CSV\n",
        "data_pekerjaan = pd.read_csv('data_pekerjaan.csv')"
      ],
      "metadata": {
        "id": "fhKg7D9KwMIu"
      },
      "execution_count": null,
      "outputs": []
    },
    {
      "cell_type": "code",
      "source": [
        "# Fungsi untuk melakukan rekomendasi pekerjaan berdasarkan jawaban kuesioner pengguna\n",
        "def rekomendasi_pekerjaan(jawaban_pengguna, dataset):\n",
        "    # Filter dataset pekerjaan berdasarkan jawaban pengguna\n",
        "    filtered_jobs = dataset[\n",
        "        (dataset['Eligibility'].isin(jawaban_pengguna)) |\n",
        "        (dataset['Job Requirement'].isin(jawaban_pengguna))\n",
        "        # Anda bisa menambahkan lebih banyak kolom keterampilan sesuai dataset Anda\n",
        "        # (dataset['Keterampilan_N'].isin(jawaban_pengguna)) |\n",
        "        # ...\n",
        "    ]\n",
        "    return filtered_jobs"
      ],
      "metadata": {
        "id": "SM2wRhWBwQDx"
      },
      "execution_count": null,
      "outputs": []
    },
    {
      "cell_type": "code",
      "source": [
        "# Simulasi pengguna mengisi kuesioner\n",
        "print(\"Selamat datang! Silakan isi kuesioner untuk rekomendasi pekerjaan.\")\n",
        "jawaban_1 = input(\"Anda memiliki disabilitas apa? \")\n",
        "jawaban_2 = input(\"Keterampilan apa yang Anda kuasai? \")\n",
        "# Anda bisa menambahkan lebih banyak pertanyaan sesuai kebutuhan\n",
        "\n",
        "# Menggabungkan jawaban kuesioner pengguna ke dalam satu daftar\n",
        "jawaban_pengguna = [jawaban_1, jawaban_2]  # Tambahkan jawaban lain jika diperlukan\n",
        "\n",
        "# Mendapatkan rekomendasi pekerjaan berdasarkan jawaban kuesioner pengguna\n",
        "hasil_rekomendasi = rekomendasi_pekerjaan(jawaban_pengguna, data_pekerjaan)\n",
        "\n",
        "# Menampilkan hasil rekomendasi\n",
        "if not hasil_rekomendasi.empty:\n",
        "    print(\"Rekomendasi Pekerjaan untuk Anda:\")\n",
        "    print(hasil_rekomendasi[['Nama Pekerjaan', 'Eligibility', 'Job Requirement', 'Gaji', 'Lokasi', 'Nama Perusahaan']])\n",
        "else:\n",
        "    print(\"Maaf, tidak ada pekerjaan yang cocok dengan kriteria Anda.\")"
      ],
      "metadata": {
        "colab": {
          "base_uri": "https://localhost:8080/"
        },
        "id": "XqRpZ9z2wdRY",
        "outputId": "90aca4f6-aacf-4bb1-ee95-a1d766d06b4f"
      },
      "execution_count": null,
      "outputs": [
        {
          "output_type": "stream",
          "name": "stdout",
          "text": [
            "Selamat datang! Silakan isi kuesioner untuk rekomendasi pekerjaan.\n",
            "Anda memiliki disabilitas apa? Tuna Rungu\n",
            "Keterampilan apa yang Anda kuasai? Mengedit\n",
            "Rekomendasi Pekerjaan untuk Anda:\n",
            "         Nama Pekerjaan Eligibility  \\\n",
            "5      Cleaning Service  Tuna Rungu   \n",
            "10  Kuli Panggul/Porter  Tuna Rungu   \n",
            "19     Cleaning Service  Tuna Rungu   \n",
            "23         Buruh Pabrik  Tuna Rungu   \n",
            "24         Kuli Panggul  Tuna Rungu   \n",
            "33     Cleaning Service  Tuna Rungu   \n",
            "38         Kuli Panggul  Tuna Rungu   \n",
            "45            Pramusaji  Tuna Rungu   \n",
            "47     Cleaning Service  Tuna Rungu   \n",
            "51         Buruh Pabrik  Tuna Rungu   \n",
            "52         Kuli Panggul  Tuna Rungu   \n",
            "59            Pramusaji  Tuna Rungu   \n",
            "61     Cleaning Service  Tuna Rungu   \n",
            "65         Buruh Pabrik  Tuna Rungu   \n",
            "66         Kuli Panggul  Tuna Rungu   \n",
            "\n",
            "                                      Job Requirement            Gaji  \\\n",
            "5   Kemampuan untuk melakukan tugas pembersihan de...  1,7 - 2 jt/bln   \n",
            "10  Dapat bekerja dengan baik dalam tim. Memiliki ...  1,5 - 2 jt/bln   \n",
            "19  Kemampuan untuk mengikuti instruksi dengan bai...  2,7 - 4 jt/bln   \n",
            "23  Kepatuhan terhadap prosedur keamanan dan keber...  3,5 - 5 jt/bln   \n",
            "24  Keterampilan organisasi yang baik untuk menata...  1,5 - 2 jt/bln   \n",
            "33  Kemampuan untuk mengikuti instruksi dengan bai...  1,7 - 2 jt/bln   \n",
            "38  Memiliki kemampuan fisik yang baik untuk menga...  1,5 - 2 jt/bln   \n",
            "45  Pengalaman kerja di bidang perhotelan atau res...        3 - 4 jt   \n",
            "47  Kemampuan untuk melakukan tugas pembersihan de...  1,7 - 2 jt/bln   \n",
            "51  Kemampuan fisik untuk melakukan tugas-tugas fi...  3,5 - 5 jt/bln   \n",
            "52  Kemampuan fisik untuk melakukan tugas-tugas fi...  1,5 - 2 jt/bln   \n",
            "59  Keterampilan multitasking yang baik. Tingkat e...        3 - 4 jt   \n",
            "61  Kemampuan untuk melakukan tugas pembersihan de...  1,7 - 2 jt/bln   \n",
            "65  Tidak memiliki alergi terhadap produk atau bah...  3,5 - 5 jt/bln   \n",
            "66  Memiliki kemampuan untuk mengikuti instruksi d...  1,5 - 2 jt/bln   \n",
            "\n",
            "                            Lokasi              Nama Perusahaan  \n",
            "5   Buton Utara, Sulawesi Tenggara              RSUD Tenriawaru  \n",
            "10              Madiun, Jawa Timur            PT. KAI Indonesia  \n",
            "19           Semarang, Jawa Tengah             PT. Angkasa Pura  \n",
            "23    Deli Serdang, Sumatera Utara                PT. Indolakto  \n",
            "24                   Lebak, Banten           Pasar Palangkaraya  \n",
            "33           Palu, Sulawesi Tengah              Yotta Indonesia  \n",
            "38             Cirebon, Jawa Barat     Pasar Sandang Tegalgubug  \n",
            "45          Bone, Sulawesi Selatan             RM. Buguri Bajoe  \n",
            "47          Bone, Sulawesi Selatan                   RS. Hapsah  \n",
            "51         Maros, Sulawesi Selatan            Aneka Beton Prima  \n",
            "52          Bone, Sulawesi Selatan       Toko Bangunan Syafiqah  \n",
            "59          Purwodadi, Jawa Tengah                Restoran Omah  \n",
            "61         Maros, Sulawesi Selatan  PT. Asuransi Jasa Indonesia  \n",
            "65          Trenggalek, Jawa Timur     PT. Asia  Karet Tropical  \n",
            "66              Blora, Jawa Tengah                 Bosowa Group  \n"
          ]
        }
      ]
    }
  ]
}
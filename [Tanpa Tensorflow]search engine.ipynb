{
  "cells": [
    {
      "cell_type": "markdown",
      "id": "263cdf0f",
      "metadata": {
        "id": "263cdf0f"
      },
      "source": [
        "# Sistem Rekomendasi Pekerjaan Berbasis Kesamaan Teks\n",
        "\n",
        "Sistem ini bertujuan untuk merekomendasikan judul pekerjaan berdasarkan kesamaan teks antara input pengguna dan deskripsi pekerjaan yang ada.\n"
      ]
    },
    {
      "cell_type": "code",
      "execution_count": null,
      "id": "dfec3ba3",
      "metadata": {
        "id": "dfec3ba3"
      },
      "outputs": [],
      "source": [
        "import pandas as pd\n",
        "import numpy as np\n",
        "from sklearn.feature_extraction.text import TfidfVectorizer\n",
        "from sklearn.metrics.pairwise import cosine_similarity\n",
        "import re\n"
      ]
    },
    {
      "cell_type": "code",
      "execution_count": null,
      "id": "ea5a1bbc",
      "metadata": {
        "id": "ea5a1bbc"
      },
      "outputs": [],
      "source": [
        "\n",
        "df = pd.read_csv('path_to_your_dataset.csv')\n",
        "\n",
        "\n",
        "df.head()\n",
        "\n",
        "\n",
        "def preprocess_text(text):\n",
        "\n",
        "    text = text.lower()\n",
        "\n",
        "\n",
        "    text = re.sub(r'[^\\w\\s]', '', text)\n",
        "\n",
        "\n",
        "    text = re.sub(r'\\d+', '', text)\n",
        "\n",
        "\n",
        "    text = text.strip()\n",
        "\n",
        "    return text\n",
        "\n",
        "\n",
        "df['processed_text'] = df['Job Description'].apply(preprocess_text)\n"
      ]
    },
    {
      "cell_type": "code",
      "execution_count": null,
      "id": "54331980",
      "metadata": {
        "id": "54331980"
      },
      "outputs": [],
      "source": [
        "tfidf_vectorizer = TfidfVectorizer()\n",
        "\n",
        "\n",
        "tfidf_matrix = tfidf_vectorizer.fit_transform(df['processed_text'])\n"
      ]
    },
    {
      "cell_type": "code",
      "execution_count": null,
      "id": "fbb3b678",
      "metadata": {
        "id": "fbb3b678"
      },
      "outputs": [],
      "source": [
        "def calculate_similarity(text_input):\n",
        "\n",
        "    text_input_vector = tfidf_vectorizer.transform([text_input])\n",
        "\n",
        "    similarity_scores = cosine_similarity(text_input_vector, tfidf_matrix)\n",
        "\n",
        "    return similarity_scores"
      ]
    },
    {
      "cell_type": "code",
      "execution_count": null,
      "id": "d5321ec5",
      "metadata": {
        "id": "d5321ec5"
      },
      "outputs": [],
      "source": [
        "def recommend_jobs(text_input):\n",
        "\n",
        "    similarity_scores = calculate_similarity(text_input)\n",
        "\n",
        "    job_indices = np.argsort(similarity_scores.flatten())[::-1]\n",
        "\n",
        "    recommended_jobs = df['Nama Pekerjaan'].iloc[job_indices]\n",
        "\n",
        "    return recommended_jobs.head()\n"
      ]
    }
  ],
  "metadata": {
    "colab": {
      "provenance": []
    },
    "language_info": {
      "name": "python"
    },
    "kernelspec": {
      "name": "python3",
      "display_name": "Python 3"
    }
  },
  "nbformat": 4,
  "nbformat_minor": 5
}